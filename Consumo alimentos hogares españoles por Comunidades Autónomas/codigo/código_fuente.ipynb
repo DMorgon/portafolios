{
  "cells": [
    {
      "cell_type": "markdown",
      "metadata": {
        "id": "view-in-github",
        "colab_type": "text"
      },
      "source": [
        "<a href=\"https://colab.research.google.com/github/DMorgon/portafolios/blob/main/Consumo%20alimentos%20hogares%20espa%C3%B1oles%20por%20Comunidades%20Aut%C3%B3nomas/codigo/c%C3%B3digo_fuente.ipynb\" target=\"_parent\"><img src=\"https://colab.research.google.com/assets/colab-badge.svg\" alt=\"Open In Colab\"/></a>"
      ]
    },
    {
      "cell_type": "code",
      "execution_count": 2,
      "metadata": {
        "colab": {
          "base_uri": "https://localhost:8080/"
        },
        "id": "WbxgdA-7A0w3",
        "outputId": "6e3246d0-8212-4fd4-cffd-6c74729b7d03"
      },
      "outputs": [
        {
          "output_type": "stream",
          "name": "stdout",
          "text": [
            "Requirement already satisfied: pandas in /usr/local/lib/python3.10/dist-packages (1.5.3)\n",
            "Requirement already satisfied: python-dateutil>=2.8.1 in /usr/local/lib/python3.10/dist-packages (from pandas) (2.8.2)\n",
            "Requirement already satisfied: pytz>=2020.1 in /usr/local/lib/python3.10/dist-packages (from pandas) (2022.7.1)\n",
            "Requirement already satisfied: numpy>=1.21.0 in /usr/local/lib/python3.10/dist-packages (from pandas) (1.22.4)\n",
            "Requirement already satisfied: six>=1.5 in /usr/local/lib/python3.10/dist-packages (from python-dateutil>=2.8.1->pandas) (1.16.0)\n",
            "Collecting gitpython\n",
            "  Downloading GitPython-3.1.32-py3-none-any.whl (188 kB)\n",
            "\u001b[2K     \u001b[90m━━━━━━━━━━━━━━━━━━━━━━━━━━━━━━━━━━━━━━━\u001b[0m \u001b[32m188.5/188.5 kB\u001b[0m \u001b[31m3.7 MB/s\u001b[0m eta \u001b[36m0:00:00\u001b[0m\n",
            "\u001b[?25hCollecting gitdb<5,>=4.0.1 (from gitpython)\n",
            "  Downloading gitdb-4.0.10-py3-none-any.whl (62 kB)\n",
            "\u001b[2K     \u001b[90m━━━━━━━━━━━━━━━━━━━━━━━━━━━━━━━━━━━━━━━━\u001b[0m \u001b[32m62.7/62.7 kB\u001b[0m \u001b[31m8.1 MB/s\u001b[0m eta \u001b[36m0:00:00\u001b[0m\n",
            "\u001b[?25hCollecting smmap<6,>=3.0.1 (from gitdb<5,>=4.0.1->gitpython)\n",
            "  Downloading smmap-5.0.0-py3-none-any.whl (24 kB)\n",
            "Installing collected packages: smmap, gitdb, gitpython\n",
            "Successfully installed gitdb-4.0.10 gitpython-3.1.32 smmap-5.0.0\n"
          ]
        }
      ],
      "source": [
        "# Mediante el comando !pip instalamos las librerias\n",
        "\n",
        "!pip install pandas\n",
        "!pip install gitpython\n"
      ]
    },
    {
      "cell_type": "code",
      "execution_count": 3,
      "metadata": {
        "id": "YTzN5Q_oA4ud"
      },
      "outputs": [],
      "source": [
        "# Cargamos las librerías a utilizar\n",
        "\n",
        "import pandas as pd\n",
        "import git\n",
        "import os\n"
      ]
    },
    {
      "cell_type": "code",
      "execution_count": 4,
      "metadata": {
        "colab": {
          "base_uri": "https://localhost:8080/"
        },
        "id": "YRjhdtG2EQwA",
        "outputId": "0883a6c9-af54-44bf-fff4-56dd45ef013c"
      },
      "outputs": [
        {
          "output_type": "stream",
          "name": "stdout",
          "text": [
            "/content/drive/My Drive\n",
            "Cloning into 'portafolios'...\n",
            "remote: Enumerating objects: 54, done.\u001b[K\n",
            "remote: Counting objects: 100% (27/27), done.\u001b[K\n",
            "remote: Compressing objects: 100% (20/20), done.\u001b[K\n",
            "remote: Total 54 (delta 2), reused 21 (delta 1), pack-reused 27\u001b[K\n",
            "Receiving objects: 100% (54/54), 54.15 MiB | 22.71 MiB/s, done.\n",
            "Resolving deltas: 100% (2/2), done.\n"
          ]
        }
      ],
      "source": [
        "# Clono el repositorio en tu entorno de Colab\n",
        "\n",
        "\n",
        "%cd /content/drive/My Drive\n",
        "!git clone https://github.com/DMorgon/portafolios.git\n"
      ]
    },
    {
      "cell_type": "code",
      "execution_count": null,
      "metadata": {
        "id": "5ehIG7dIuF8w"
      },
      "outputs": [],
      "source": [
        "# Creamos una lista con el nombre de cada archivo\n",
        "\n",
        "\n",
        "archivos = [\"2000\", \"2001\", \"2002\", \"2003\", \"2004\", \"2005\", \"2006\", \"2007\", \"2008\", \"2009\", \"2010\", \"2011\", \"2012\",\n",
        "            \"2013\", \"2014\", \"2015\", \"2016\", \"2017\", \"2018\", \"2019\", \"2020\", \"2021\", \"2022\"]\n"
      ]
    },
    {
      "cell_type": "code",
      "execution_count": null,
      "metadata": {
        "id": "lLCTMDCguJZo"
      },
      "outputs": [],
      "source": [
        "# Creamos las función que nos permitirá cargar los datos de la hoja CONSUMOXCAPITA\n",
        "\n",
        "\n",
        "def carga_consumoxcapita(nombre_archivo):\n",
        "    ruta_archivo = os.path.join(\"/content/drive/My Drive/portafolios/Consumo alimentos hogares españoles por Comunidades Autónomas/datos_origen\",\n",
        "                                f'{nombre_archivo}.xlsx')\n",
        "    df_consumoxcapita = pd.read_excel(ruta_archivo, sheet_name=4, header=2)\n",
        "    df_consumoxcapita[\"ANALISIS\"] = \"Consumo x cápita (miles de kg o litros)\"\n",
        "    return df_consumoxcapita\n"
      ]
    },
    {
      "cell_type": "code",
      "execution_count": null,
      "metadata": {
        "id": "S2smRoFNuhoF"
      },
      "outputs": [],
      "source": [
        "# Creamos una función que obtenga los datos de la hoja GASTOXCAPITA\n",
        "\n",
        "\n",
        "def carga_gastoxcapita(nombre_archivo):\n",
        "    ruta_archivo = os.path.join(\"/content/drive/My Drive/portafolios/Consumo alimentos hogares españoles por Comunidades Autónomas/datos_origen\",\n",
        "                                f'{nombre_archivo}.xlsx')\n",
        "    df_gastoxcapita = pd.read_excel(ruta_archivo, sheet_name=5, header=2)\n",
        "    df_gastoxcapita[\"ANALISIS\"] = \"Gasto x cápita (miles de euros)\"\n",
        "    return df_gastoxcapita\n",
        ""
      ]
    },
    {
      "cell_type": "code",
      "execution_count": null,
      "metadata": {
        "id": "7NqtAFwAupm_"
      },
      "outputs": [],
      "source": [
        "# Hacemos una llamada a la función extraccion_consumoxcapita(nombre_archivo) para cada uno de los archivos\n",
        "\n",
        "df_consumoxcapita_2000 = carga_consumoxcapita(archivos[0])\n",
        "df_consumoxcapita_2001 = carga_consumoxcapita(archivos[1])\n",
        "df_consumoxcapita_2002 = carga_consumoxcapita(archivos[2])\n",
        "df_consumoxcapita_2003 = carga_consumoxcapita(archivos[3])\n",
        "df_consumoxcapita_2004 = carga_consumoxcapita(archivos[4])\n",
        "df_consumoxcapita_2005 = carga_consumoxcapita(archivos[5])\n",
        "df_consumoxcapita_2006 = carga_consumoxcapita(archivos[6])\n",
        "df_consumoxcapita_2007 = carga_consumoxcapita(archivos[7])\n",
        "df_consumoxcapita_2008 = carga_consumoxcapita(archivos[8])\n",
        "df_consumoxcapita_2009 = carga_consumoxcapita(archivos[9])\n",
        "df_consumoxcapita_2010 = carga_consumoxcapita(archivos[10])\n",
        "df_consumoxcapita_2011 = carga_consumoxcapita(archivos[11])\n",
        "df_consumoxcapita_2012 = carga_consumoxcapita(archivos[12])\n",
        "df_consumoxcapita_2013 = carga_consumoxcapita(archivos[13])\n",
        "df_consumoxcapita_2014 = carga_consumoxcapita(archivos[14])\n",
        "df_consumoxcapita_2015 = carga_consumoxcapita(archivos[15])\n",
        "df_consumoxcapita_2016 = carga_consumoxcapita(archivos[16])\n",
        "df_consumoxcapita_2017 = carga_consumoxcapita(archivos[17])\n",
        "df_consumoxcapita_2018 = carga_consumoxcapita(archivos[18])\n",
        "df_consumoxcapita_2019 = carga_consumoxcapita(archivos[19])\n",
        "df_consumoxcapita_2020 = carga_consumoxcapita(archivos[20])\n",
        "df_consumoxcapita_2021 = carga_consumoxcapita(archivos[21])\n",
        "df_consumoxcapita_2022 = carga_consumoxcapita(archivos[22])\n"
      ]
    },
    {
      "cell_type": "code",
      "execution_count": null,
      "metadata": {
        "id": "AVpt6mfcuv2u"
      },
      "outputs": [],
      "source": [
        "# Hacemos una llamada a la función extraccion_gastoxcapita(nombre_archivo) para cada uno de los archivos\n",
        "\n",
        "df_gastoxcapita_2000 = carga_gastoxcapita(archivos[0])\n",
        "df_gastoxcapita_2001 = carga_gastoxcapita(archivos[1])\n",
        "df_gastoxcapita_2002 = carga_gastoxcapita(archivos[2])\n",
        "df_gastoxcapita_2003 = carga_gastoxcapita(archivos[3])\n",
        "df_gastoxcapita_2004 = carga_gastoxcapita(archivos[4])\n",
        "df_gastoxcapita_2005 = carga_gastoxcapita(archivos[5])\n",
        "df_gastoxcapita_2006 = carga_gastoxcapita(archivos[6])\n",
        "df_gastoxcapita_2007 = carga_gastoxcapita(archivos[7])\n",
        "df_gastoxcapita_2008 = carga_gastoxcapita(archivos[8])\n",
        "df_gastoxcapita_2009 = carga_gastoxcapita(archivos[9])\n",
        "df_gastoxcapita_2010 = carga_gastoxcapita(archivos[10])\n",
        "df_gastoxcapita_2011 = carga_gastoxcapita(archivos[11])\n",
        "df_gastoxcapita_2012 = carga_gastoxcapita(archivos[12])\n",
        "df_gastoxcapita_2013 = carga_gastoxcapita(archivos[13])\n",
        "df_gastoxcapita_2014 = carga_gastoxcapita(archivos[14])\n",
        "df_gastoxcapita_2015 = carga_gastoxcapita(archivos[15])\n",
        "df_gastoxcapita_2016 = carga_gastoxcapita(archivos[16])\n",
        "df_gastoxcapita_2017 = carga_gastoxcapita(archivos[17])\n",
        "df_gastoxcapita_2018 = carga_gastoxcapita(archivos[18])\n",
        "df_gastoxcapita_2019 = carga_gastoxcapita(archivos[19])\n",
        "df_gastoxcapita_2020 = carga_gastoxcapita(archivos[20])\n",
        "df_gastoxcapita_2021 = carga_gastoxcapita(archivos[21])\n",
        "df_gastoxcapita_2022 = carga_gastoxcapita(archivos[22])\n"
      ]
    },
    {
      "cell_type": "code",
      "execution_count": null,
      "metadata": {
        "id": "K3wpZouRu_lv"
      },
      "outputs": [],
      "source": [
        "# Juntamos en una tabla, la información obtenida anteriormente para cada uno de los años\n",
        "\n",
        "df_2000 = pd.concat([df_consumoxcapita_2000, df_gastoxcapita_2000], ignore_index=True)\n",
        "df_2001 = pd.concat([df_consumoxcapita_2001, df_gastoxcapita_2001], ignore_index=True)\n",
        "df_2002 = pd.concat([df_consumoxcapita_2002, df_gastoxcapita_2002], ignore_index=True)\n",
        "df_2003 = pd.concat([df_consumoxcapita_2003, df_gastoxcapita_2003], ignore_index=True)\n",
        "df_2004 = pd.concat([df_consumoxcapita_2004, df_gastoxcapita_2004], ignore_index=True)\n",
        "df_2005 = pd.concat([df_consumoxcapita_2005, df_gastoxcapita_2005], ignore_index=True)\n",
        "df_2006 = pd.concat([df_consumoxcapita_2006, df_gastoxcapita_2006], ignore_index=True)\n",
        "df_2007 = pd.concat([df_consumoxcapita_2007, df_gastoxcapita_2007], ignore_index=True)\n",
        "df_2008 = pd.concat([df_consumoxcapita_2008, df_gastoxcapita_2008], ignore_index=True)\n",
        "df_2009 = pd.concat([df_consumoxcapita_2009, df_gastoxcapita_2009], ignore_index=True)\n",
        "df_2010 = pd.concat([df_consumoxcapita_2010, df_gastoxcapita_2010], ignore_index=True)\n",
        "df_2011 = pd.concat([df_consumoxcapita_2011, df_gastoxcapita_2011], ignore_index=True)\n",
        "df_2012 = pd.concat([df_consumoxcapita_2012, df_gastoxcapita_2012], ignore_index=True)\n",
        "df_2013 = pd.concat([df_consumoxcapita_2013, df_gastoxcapita_2013], ignore_index=True)\n",
        "df_2014 = pd.concat([df_consumoxcapita_2014, df_gastoxcapita_2014], ignore_index=True)\n",
        "df_2015 = pd.concat([df_consumoxcapita_2015, df_gastoxcapita_2015], ignore_index=True)\n",
        "df_2016 = pd.concat([df_consumoxcapita_2016, df_gastoxcapita_2016], ignore_index=True)\n",
        "df_2017 = pd.concat([df_consumoxcapita_2017, df_gastoxcapita_2017], ignore_index=True)\n",
        "df_2018 = pd.concat([df_consumoxcapita_2018, df_gastoxcapita_2018], ignore_index=True)\n",
        "df_2019 = pd.concat([df_consumoxcapita_2019, df_gastoxcapita_2019], ignore_index=True)\n",
        "df_2020 = pd.concat([df_consumoxcapita_2020, df_gastoxcapita_2020], ignore_index=True)\n",
        "df_2021 = pd.concat([df_consumoxcapita_2021, df_gastoxcapita_2021], ignore_index=True)\n",
        "df_2022 = pd.concat([df_consumoxcapita_2022, df_gastoxcapita_2022], ignore_index=True)\n"
      ]
    },
    {
      "cell_type": "code",
      "source": [
        "# Genero una lista con las tablas de datos creadas en el apartado anterior a las que realizaremos el EDA\n",
        "\n",
        "lista_df = [df_2000, df_2001, df_2002, df_2003, df_2004, df_2005, df_2006, df_2007, df_2008, df_2009, df_2010, df_2011,\n",
        "            df_2012, df_2013, df_2014, df_2015, df_2016, df_2017, df_2018, df_2019, df_2020, df_2021, df_2022]\n"
      ],
      "metadata": {
        "id": "2iVud8QA79kd"
      },
      "execution_count": null,
      "outputs": []
    },
    {
      "cell_type": "code",
      "source": [
        "# Imprimo en pantalla el nombre de la tabla de datos e información de cada una de ellas\n",
        "\n",
        "for i, df in enumerate(lista_df):\n",
        "    nombre_tabla = f\"df_{2000 + i}\"\n",
        "    print(f\"Nombre de la tabla de datos: {nombre_tabla}\")\n",
        "    print(df.info())\n",
        "    if df.isna().any().any():\n",
        "        print(\"Hay valores NA en la tabla de datos\" + \"\\n\")\n",
        "    else:\n",
        "        print(\"No hay valores NA en la tabla de datos\" + \"\\n\")\n"
      ],
      "metadata": {
        "id": "RyalAj0G8ILb"
      },
      "execution_count": null,
      "outputs": []
    },
    {
      "cell_type": "markdown",
      "source": [
        "En las tablas df_2004, df_2005, df_2006, df_2007, df_2008, df_2009, df_2010, df_2011, df_2012, df_2013, df_2014,\n",
        "df_2015, df_2016, df_2017, df_2018 mientras que en las restantes sólo hay 20. Las columnas sobrantes serían NORESTE,\n",
        "T.ESPAÑA, LEVANTE, ANDALUCIA, CENTRO-SUR, CASTILLA Y LEON, NOROESTE, NORTE, T.CANARIAS\n",
        "\n",
        "También se comprueba que los nombres de las columnas varia de una tabla a otra.\n",
        "\n",
        "Por último, en las siguientes tablas existe valores ausentes: df_2000, df_2001, df_2002, df_2003, df_2020, df_2021,\n",
        "df_2022"
      ],
      "metadata": {
        "id": "Ae4xqsyD8QOW"
      }
    },
    {
      "cell_type": "code",
      "source": [
        "# Cambio el nombre de la columna Unnamed a CATEGORIAS en cada una de las tablas\n",
        "\n",
        "for df in lista_df:\n",
        "    df.rename(columns={\"Unnamed: 0\": \"CATEGORIAS\"}, inplace=True)\n"
      ],
      "metadata": {
        "id": "Nh1Jk63_8RCg"
      },
      "execution_count": null,
      "outputs": []
    },
    {
      "cell_type": "code",
      "source": [
        "# Creo una lista con las categorias que me interesa mantener\n",
        "\n",
        "lista_categoria = [\"T.HUEVOS KGS\", \"MIEL\", \"TOTAL CARNE\", \"TOTAL PESCA\", \"TOTAL LECHE LIQUIDA\", \"TOTAL OTRAS LECHES\",\n",
        "                   \"DERIVADOS LACTEOS\", \"PAN\", \"BOLL.PAST.GALLET.CERE\", \"PRODUCTOS NAVIDEÑOS\",\n",
        "                   \"CHOCOLATES/CACAOS/SUC\", \"ARROZ\", \"TOTAL PASTAS\", \"AZUCAR\", \"EDULCORANTES\", \"LEGUMBRES\",\n",
        "                   \"TOTAL ACEITE\", \"MARGARINA\", \"ACEITUNAS\", \"BEBIDAS DERIVADAS VI\", \"TOTAL VINOS\", \"CERVEZAS\",\n",
        "                   \"SIDRAS\", \"T.BEBIDAS ESPIRITUOSA\", \"VINAGRE\", \"TOTAL ZOMO Y NECTAR\", \"TOTAL PATATAS\",\n",
        "                   \"T.HORTALIZAS FRESCAS\", \"T.FRUTAS FRESCAS\", \"FRUTOS SECOS\", \"T.FRUTA&HORTA.TRANSF\",\n",
        "                   \"PLATOS PREPARADOS\", \"CAFES E INFUSIONES\", \"CALDOS\", \"SALSAS\", \"AGUA DE BEBIDA ENVAS.\",\n",
        "                   \"GASEOSAS Y BEBID.REFR\", \"BASES PIZZAS&MASAS HO\", \"HARINAS Y SEMOLAS\", \"ENCURTIDOS\",\n",
        "                   \"ESPECIAS Y CONDIMENTO\", \"SAL\", \"OTROS PROD.EN PESO\", \"OTROS PROD.EN VOLUMEN\", \"ALGAS\"]\n",
        "\n",
        "# Filtro las tablas con las categorías de la lista\n",
        "\n",
        "for i, df in enumerate(lista_df):\n",
        "    lista_df[i] = df[df[\"CATEGORIAS\"].isin(lista_categoria)]\n"
      ],
      "metadata": {
        "id": "4aLabCzw8Ue7"
      },
      "execution_count": null,
      "outputs": []
    },
    {
      "cell_type": "code",
      "source": [
        "# Creo un diccionario para sustituir el nombre de las categorías por otras más adecuadas\n",
        "\n",
        "nuevas_categorias = {\"T.HUEVOS KGS\": \"Huevos\", \"MIEL\": \"Miel\", \"TOTAL CARNE\": \"Carne\",\n",
        "                     \"TOTAL PESCA\": \"Pescados y mariscos\", \"TOTAL LECHE LIQUIDA\": \"Leche líquida\",\n",
        "                     \"TOTAL OTRAS LECHES\": \"Otras leches\", \"DERIVADOS LACTEOS\": \"Derivados lacteos\", \"PAN\": \"Pan\",\n",
        "                     \"BOLL.PAST.GALLET.CERE\": \"Bolleria, pastelería, galletas y cereales\",\n",
        "                     \"PRODUCTOS NAVIDEÑOS\": \"Productos navideños\", \"CHOCOLATES/CACAOS/SUC\": \"Chocolates\",\n",
        "                     \"ARROZ\": \"Arroz\", \"TOTAL PASTAS\": \"Pastas\", \"AZUCAR\": \"Azucar\", \"EDULCORANTES\": \"Edulcorante\",\n",
        "                     \"LEGUMBRES\": \"Legumbres\", \"TOTAL ACEITE\": \"Aceites\", \"MARGARINA\": \"Margarinas\",\n",
        "                     \"ACEITUNAS\": \"Aceitunas\", \"BEBIDAS DERIVADAS VI\": \"Bebidas derivadas del vino\",\n",
        "                     \"TOTAL VINOS\": \"Vinos\", \"CERVEZAS\": \"Cervezas\", \"SIDRAS\": \"Sidras\",\n",
        "                     \"T.BEBIDAS ESPIRITUOSA\": \"Bebidas espirituosas\", \"VINAGRE\": \"Vinagres\",\n",
        "                     \"TOTAL ZOMO Y NECTAR\": \"Zumos y nectares\", \"TOTAL PATATAS\": \"Patatas\",\n",
        "                     \"T.HORTALIZAS FRESCAS\": \"Hortalizas frescas\", \"T.FRUTAS FRESCAS\": \"Frutas frescas\",\n",
        "                     \"FRUTOS SECOS\": \"Frutos secos\", \"T.FRUTA&HORTA.TRANSF\": \"Frutas y hortalizas transformadas\",\n",
        "                     \"PLATOS PREPARADOS\": \"Platos preparados\", \"CAFES E INFUSIONES\": \"Cafes e infusiones\",\n",
        "                     \"CALDOS\": \"Caldos\", \"SALSAS\": \"Salsas\", \"AGUA DE BEBIDA ENVAS.\": \"Aguas envasadas\",\n",
        "                     \"GASEOSAS Y BEBID.REFR\": \"Gaseosas y bebidas refrescantes\", \"BASES PIZZAS&MASAS HO\": \"Masas\",\n",
        "                     \"HARINAS Y SEMOLAS\": \"Harinas y semolas\", \"ENCURTIDOS\": \"Encurtidos\",\n",
        "                     \"ESPECIAS Y CONDIMENTO\": \"Especias\", \"SAL\": \"Sal\", \"OTROS PROD.EN PESO\": \"Otros productos en peso\",\n",
        "                     \"OTROS PROD.EN VOLUMEN\": \"Otros productos en volumen\"}\n",
        "\n",
        "# Sustituyo en la variable \"CATEGORIAS\" los valores definidos en nuevas_categorias\n",
        "\n",
        "for i, df in enumerate(lista_df):\n",
        "    lista_df[i][\"CATEGORIAS\"] = df[\"CATEGORIAS\"].replace(nuevas_categorias)\n"
      ],
      "metadata": {
        "id": "y7PILQ1e8ckj"
      },
      "execution_count": null,
      "outputs": []
    },
    {
      "cell_type": "code",
      "source": [
        "# Imprimo en pantalla el nombre de la tabla de datos e información de cada una de ellas\n",
        "\n",
        "for i, df in enumerate(lista_df):\n",
        "    nombre_tabla = f\"df_{2000 + i}\"\n",
        "    print(f\"Nombre de la tabla de datos: {nombre_tabla}\")\n",
        "    print(df.info())\n",
        "    if df.isna().any().any():\n",
        "        print(\"Hay valores NA en la tabla de datos\" + \"\\n\")\n",
        "    else:\n",
        "        print(\"No hay valores NA en la tabla de datos\" + \"\\n\")\n"
      ],
      "metadata": {
        "id": "s6Jdk6jc8mM8"
      },
      "execution_count": null,
      "outputs": []
    },
    {
      "cell_type": "markdown",
      "source": [
        "Tras realizar el EDA sobre los dataframe filtrados vemos que en las tablas df_2020, df_2021 y df_2022 siguen existiendo\n",
        "valores ausentes, en comunidades como CASTILLA - LA MANCHA, EXTREMADURA PRINCIPADO DE ASTURIAS, LA RIOJA, CANARIAS,\n",
        "C. FORAL DE NAVARRA y CANTABRIA"
      ],
      "metadata": {
        "id": "91GWPlGh8s9m"
      }
    },
    {
      "cell_type": "code",
      "source": [
        "# Consulto en que categorías de alimentos existen valores ausentes\n",
        "\n",
        "for i in [20, 21, 22]:\n",
        "    nombre_tabla = f\"df_{2000 + i}\"\n",
        "    print(f\"Nombre de la tabla de datos: {nombre_tabla}\")\n",
        "    filas_nulas = lista_df[i].isnull().any(axis=1)\n",
        "    print(lista_df[i][filas_nulas])\n",
        ""
      ],
      "metadata": {
        "id": "GYk1R8kM8sqn"
      },
      "execution_count": null,
      "outputs": []
    },
    {
      "cell_type": "markdown",
      "source": [
        "Como se puede ver, en las tablas indicadas anteriormente sólo en la categoría ALGAS existen valores ausentes\n",
        "en las Comunidades Autónomas de CASTILLA - LA MANCHA, EXTREMADURA, PRINCIPADO DE ASTURIAS, LA RIOJA, CANARIAS,\n",
        "C. FORAL DE NAVARRA y CANTABRIA.\n",
        "\n",
        "Procedo a eliminar  las filas correspondientes a la categoría ALGAS de todas las tablas ya que los datos restantes\n",
        "son lo suficientemente grandes y representativos como para hacer un análisis del consumo alimenticios de los hogares\n",
        "españoles."
      ],
      "metadata": {
        "id": "hCKwvAYn80iK"
      }
    },
    {
      "cell_type": "code",
      "source": [
        "# Elimino los registros correspondientes a la categoría ALGAS\n",
        "\n",
        "for i, df in enumerate(lista_df):\n",
        "    lista_df[i] = df[df[\"CATEGORIAS\"] != \"ALGAS\"]\n",
        ""
      ],
      "metadata": {
        "id": "GCaniTTU81SN"
      },
      "execution_count": null,
      "outputs": []
    },
    {
      "cell_type": "code",
      "source": [
        "# Genero una lista con el nombre de las columnas a eliminar\n",
        "\n",
        "columnas_eliminar = [\".TOTAL ESPAÑA\", \"T.ESPAÑA\", \"NORESTE\", \"LEVANTE\", \"ANDALUCIA\", \"CENTRO-SUR\", \"CASTILLA Y LEON\",\n",
        "                     \"NOROESTE\", \"NORTE\", \"T.CANARIAS\"]\n",
        "\n",
        "# Elimino las columnas sobrantes en cada dataframe\n",
        "\n",
        "for df in lista_df:\n",
        "    df.drop(columns=columnas_eliminar, errors=\"ignore\", inplace=True)\n",
        ""
      ],
      "metadata": {
        "id": "VgW-_UZ6843y"
      },
      "execution_count": null,
      "outputs": []
    },
    {
      "cell_type": "code",
      "source": [
        "# Sustituyo el nombre de las variabales para que sean coherentes entre las distintas tablas de datos\n",
        "\n",
        "for df in lista_df:\n",
        "    df.columns = df.columns.str.replace(\"CASTILLA LA MANCHA\", \"CASTILLA - LA MANCHA\", regex=False)\n",
        "    df.columns = df.columns.str.replace(\"CASTILLA DE MADRID\", \"MADRID\", regex=False)\n",
        "    df.columns = df.columns.str.replace(\"PRINCIPADO DE ASTURIAS\", \"ASTURIAS\", regex=False)\n",
        "    df.columns = df.columns.str.replace(\"ILLES BALEARS\", \"BALEARES\", regex=False)\n",
        "    df.columns = df.columns.str.replace(\"C. FORAL DE NAVARRA\", \"NAVARRA\", regex=False)\n",
        "    df.columns = df.columns.str.replace(\"COMUNITAT VALENCIANA\", \"VALENCIA\", regex=False)\n",
        "    df.columns = df.columns.str.replace(\"ANDALUCÍA\", \"ANDALUCIA\", regex=False)\n",
        "    df.columns = df.columns.str.replace(\"T.ANDALUCIA\", \"ANDALUCIA\", regex=False)\n",
        "    df.columns = df.columns.str.replace(\"CASTILLA Y LEÓN\", \"CASTILLA Y LEON\", regex=False)\n",
        "    df.columns = df.columns.str.replace(\"ARAGÓN\", \"ARAGON\", regex=False)\n",
        "    df.columns = df.columns.str.replace(\"REGIÓN DE MURCIA\", \"MURCIA\", regex=False)\n",
        "    df.columns = df.columns.str.replace(\"COMUNIDAD DE MADRID\", \"MADRID\", regex=False)\n",
        "    # df.sort_index(axis=1, inplace=True, copy=False)\n",
        "    df.loc[:, sorted(df.columns)] = df.loc[:, df.columns]\n",
        ""
      ],
      "metadata": {
        "id": "ONhpxIT_89Ao"
      },
      "execution_count": null,
      "outputs": []
    },
    {
      "cell_type": "code",
      "source": [
        "# Añado la columna de AÑO y el año correspondiente en cada tabla\n",
        "\n",
        "for df in lista_df:\n",
        "    df[\"AÑO\"] = int(archivos[i])\n",
        ""
      ],
      "metadata": {
        "id": "MrIjtq979EMH"
      },
      "execution_count": null,
      "outputs": []
    },
    {
      "cell_type": "code",
      "source": [
        "# Transformo el formato de ancho a largo, manteniendo las columnas \"AÑO\", \"CATEGORIA\" y \"ANALISIS\" como identificadores\n",
        "\n",
        "for i, df in enumerate(lista_df):\n",
        "    lista_df[i] = df.melt(id_vars=[\"AÑO\", \"CATEGORIAS\", \"ANALISIS\"], var_name=\"COMUNIDAD AUTONOMA\",\n",
        "                          value_name=\"CANTIDAD\")\n",
        ""
      ],
      "metadata": {
        "id": "kRA_yfNm9HWu"
      },
      "execution_count": null,
      "outputs": []
    },
    {
      "cell_type": "code",
      "source": [
        "# Uno todas las tablas en una sola\n",
        "\n",
        "df_total = pd.concat(objs=lista_df, axis=0)\n"
      ],
      "metadata": {
        "id": "JrCj2-Nn9MXe"
      },
      "execution_count": null,
      "outputs": []
    },
    {
      "cell_type": "code",
      "source": [
        "# Realizo un análisis de df_total para comprobar que se han realizado las modificaciones correctamente\n",
        "\n",
        "print(df_total.info())\n",
        "if df_total.isna().any().any():\n",
        "    print(\"Hay valores NA en la tabla de datos\" + \"\\n\")\n",
        "else:\n",
        "    print(\"No hay valores NA en la tabla de datos\" + \"\\n\")\n",
        ""
      ],
      "metadata": {
        "id": "WmpqoJt69PFf"
      },
      "execution_count": null,
      "outputs": []
    },
    {
      "cell_type": "code",
      "source": [
        "# Guardo en un archivo .csv la tabla de datos\n",
        "\n",
        "df_total.to_csv(\"/content/drive/My Drive/portafolios/Consumo alimentos hogares españoles por Comunidades Autónomas/tabla_procesada.csv\", index=False, encoding=\"utf8\")\n"
      ],
      "metadata": {
        "id": "32VYXfPu9UEW"
      },
      "execution_count": null,
      "outputs": []
    }
  ],
  "metadata": {
    "colab": {
      "provenance": [],
      "authorship_tag": "ABX9TyOzYqofcPZeuNa4Wl1rb+Nf",
      "include_colab_link": true
    },
    "kernelspec": {
      "display_name": "Python 3",
      "name": "python3"
    },
    "language_info": {
      "name": "python"
    }
  },
  "nbformat": 4,
  "nbformat_minor": 0
}