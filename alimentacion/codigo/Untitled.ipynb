{
 "cells": [
  {
   "cell_type": "markdown",
   "id": "561f956d",
   "metadata": {},
   "source": [
    "Instalo las librerías que voy a utilizar"
   ]
  },
  {
   "cell_type": "code",
   "execution_count": null,
   "id": "ce74224f",
   "metadata": {},
   "outputs": [],
   "source": []
  }
 ],
 "metadata": {
  "kernelspec": {
   "display_name": "venv",
   "language": "python",
   "name": "venv"
  },
  "language_info": {
   "codemirror_mode": {
    "name": "ipython",
    "version": 3
   },
   "file_extension": ".py",
   "mimetype": "text/x-python",
   "name": "python",
   "nbconvert_exporter": "python",
   "pygments_lexer": "ipython3",
   "version": "3.11.3"
  }
 },
 "nbformat": 4,
 "nbformat_minor": 5
}
